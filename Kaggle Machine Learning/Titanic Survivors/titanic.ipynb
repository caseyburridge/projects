{
 "cells": [
  {
   "cell_type": "code",
   "execution_count": 307,
   "metadata": {
    "collapsed": true
   },
   "outputs": [],
   "source": [
    "import pandas as pd\n",
    "import numpy as np\n",
    "import matplotlib.pyplot as plt\n",
    "from sklearn.preprocessing import LabelEncoder \n",
    "from sklearn.preprocessing import StandardScaler\n",
    "from sklearn import model_selection\n",
    "from sklearn.metrics import classification_report\n",
    "from sklearn.metrics import confusion_matrix\n",
    "from sklearn.metrics import accuracy_score\n",
    "\n",
    "from sklearn.ensemble import RandomForestClassifier\n",
    "from sklearn.ensemble import GradientBoostingClassifier\n",
    "\n",
    "import os\n",
    "\n",
    "mingw_path = 'C:\\\\Program Files\\\\mingw-w64\\\\x86_64-5.3.0-posix-seh-rt_v4-rev0\\\\mingw64\\\\bin'\n",
    "\n",
    "os.environ['PATH'] = mingw_path + ';' + os.environ['PATH']\n",
    "\n",
    "from xgboost import XGBClassifier\n",
    "\n",
    "%matplotlib inline"
   ]
  },
  {
   "cell_type": "code",
   "execution_count": 308,
   "metadata": {},
   "outputs": [
    {
     "name": "stdout",
     "output_type": "stream",
     "text": [
      "   Pclass  Sex  Age  Fare  Family Size  S  C  Q  Name  IsAlone  Survived\n",
      "0       3    1    1     0            1  1  0  0     2        0         0\n",
      "1       1    0    2     3            1  0  1  0     3        0         1\n",
      "2       3    0    1     1            0  1  0  0     1        1         1\n",
      "3       1    0    2     3            1  1  0  0     3        0         1\n",
      "4       3    1    2     1            0  1  0  0     2        1         0\n",
      "   Pclass  Sex  Age  Fare  Family Size  S  C  Q  Name  IsAlone\n",
      "0       3    1    2     0            0  0  0  1     2        1\n",
      "1       3    0    2     0            1  1  0  0     3        0\n",
      "2       2    1    3     1            0  0  0  1     2        1\n",
      "3       3    1    1     1            0  1  0  0     2        1\n",
      "4       3    0    1     1            1  1  0  0     3        0\n"
     ]
    }
   ],
   "source": [
    "data = pd.read_csv(\"C:\\\\Users\\\\Casey\\\\Desktop\\\\DS projects\\\\Titanic\\\\Raw data\\\\train-3.csv\", header=0)\n",
    "test_data = pd.read_csv(\"C:\\\\Users\\\\Casey\\\\Desktop\\\\DS projects\\\\Titanic\\\\Raw data\\\\test-3.csv\", header=0)\n",
    "\n",
    "print(data.head())\n",
    "print(test_data.head())"
   ]
  },
  {
   "cell_type": "code",
   "execution_count": 309,
   "metadata": {},
   "outputs": [],
   "source": [
    "array = data.values\n",
    "X = array[:,0:10]\n",
    "Y = array[:,10]\n",
    "validation_size = 0.20\n",
    "seed = 7\n",
    "X_train, X_validation, Y_train, Y_validation = model_selection.train_test_split(X, Y, test_size=validation_size, random_state=seed)"
   ]
  },
  {
   "cell_type": "code",
   "execution_count": 310,
   "metadata": {},
   "outputs": [
    {
     "name": "stdout",
     "output_type": "stream",
     "text": [
      "RF: 0.742973 (0.054485)\n",
      "GB: 0.764931 (0.034631)\n",
      "XGB: 0.756514 (0.039904)\n"
     ]
    }
   ],
   "source": [
    "#Implement various algorithms\n",
    "models = []\n",
    "models.append(('RF', RandomForestClassifier()))\n",
    "models.append(('GB', GradientBoostingClassifier()))\n",
    "models.append(('XGB', XGBClassifier()))\n",
    "\n",
    "#Evaluate each model using 10-fold cross-validation\n",
    "results = []\n",
    "names = []\n",
    "for name, model in models:\n",
    "\tkfold = model_selection.KFold(n_splits=10, random_state=seed)\n",
    "\tcv_results = model_selection.cross_val_score(model, X_train, Y_train, cv=kfold, scoring='f1')\n",
    "\tresults.append(cv_results)\n",
    "\tnames.append(name)\n",
    "\tmsg = \"%s: %f (%f)\" % (name, cv_results.mean(), cv_results.std())\n",
    "\tprint(msg)"
   ]
  },
  {
   "cell_type": "code",
   "execution_count": 311,
   "metadata": {},
   "outputs": [
    {
     "data": {
      "image/png": "[encoded data removed]",
      "text/plain": [
       "<matplotlib.figure.Figure at 0x2261e297cf8>"
      ]
     },
     "metadata": {},
     "output_type": "display_data"
    }
   ],
   "source": [
    "fig = plt.figure()\n",
    "fig.suptitle('Algorithm Comparison')\n",
    "ax = fig.add_subplot(111)\n",
    "plt.boxplot(results)\n",
    "ax.set_xticklabels(names)\n",
    "plt.show()"
   ]
  },
  {
   "cell_type": "code",
   "execution_count": 312,
   "metadata": {},
   "outputs": [
    {
     "name": "stdout",
     "output_type": "stream",
     "text": [
      "(418, 10)\n"
     ]
    }
   ],
   "source": [
    "X_test = test_data.values\n",
    "print(X_test.shape)"
   ]
  },
  {
   "cell_type": "code",
   "execution_count": 313,
   "metadata": {},
   "outputs": [
    {
     "name": "stdout",
     "output_type": "stream",
     "text": [
      "[[101   9]\n",
      " [ 24  45]]\n",
      "             precision    recall  f1-score   support\n",
      "\n",
      "          0       0.81      0.92      0.86       110\n",
      "          1       0.83      0.65      0.73        69\n",
      "\n",
      "avg / total       0.82      0.82      0.81       179\n",
      "\n",
      "Accuracy score:  0.815642458101\n"
     ]
    }
   ],
   "source": [
    "gb = GradientBoostingClassifier(learning_rate = 0.5, n_estimators = 100)\n",
    "#We are training our Random Forest using the fit() function on our training data\n",
    "gb.fit(X_train, Y_train)\n",
    "#Now that the model has been trained, we can use it to make predictions\n",
    "predictions = gb.predict(X_validation)\n",
    "\n",
    "print(confusion_matrix(Y_validation, predictions))\n",
    "print(classification_report(Y_validation, predictions))\n",
    "print('Accuracy score: ', end = \" \")\n",
    "print(accuracy_score(Y_validation, predictions))"
   ]
  },
  {
   "cell_type": "code",
   "execution_count": 314,
   "metadata": {},
   "outputs": [
    {
     "name": "stdout",
     "output_type": "stream",
     "text": [
      "[[101   9]\n",
      " [ 24  45]]\n",
      "             precision    recall  f1-score   support\n",
      "\n",
      "          0       0.81      0.92      0.86       110\n",
      "          1       0.83      0.65      0.73        69\n",
      "\n",
      "avg / total       0.82      0.82      0.81       179\n",
      "\n",
      "Accuracy score:  0.815642458101\n"
     ]
    }
   ],
   "source": [
    "xgb = XGBClassifier(learning_rate = 1, n_estimators = 100)\n",
    "#We are training our Random Forest using the fit() function on our training data\n",
    "xgb.fit(X_train, Y_train)\n",
    "#Now that the model has been trained, we can use it to make predictions\n",
    "predictions = xgb.predict(X_validation)\n",
    "\n",
    "print(confusion_matrix(Y_validation, predictions))\n",
    "print(classification_report(Y_validation, predictions))\n",
    "print('Accuracy score: ', end = \" \")\n",
    "print(accuracy_score(Y_validation, predictions))"
   ]
  },
  {
   "cell_type": "code",
   "execution_count": 315,
   "metadata": {},
   "outputs": [
    {
     "name": "stdout",
     "output_type": "stream",
     "text": [
      "[0 0 0 0 1 0 1 0 1 0 0 1 1 0 1 1 0 0 0 1 0 1 1 1 1 0 1 0 0 0 0 0 1 0 1 0 0\n",
      " 0 0 0 0 0 0 1 1 0 0 0 1 0 0 0 1 1 0 0 0 0 0 1 0 0 0 1 1 1 1 0 0 1 1 0 0 0\n",
      " 1 0 0 1 0 1 1 0 1 0 0 0 1 1 1 1 1 0 1 0 0 0 1 0 1 0 1 0 0 0 1 0 0 0 0 0 0\n",
      " 1 1 1 1 0 0 0 0 1 1 0 1 0 0 0 0 1 0 0 0 1 0 0 0 0 0 0 0 0 0 1 0 0 1 0 0 0\n",
      " 0 0 1 0 0 0 0 0 1 1 1 1 1 1 1 0 0 1 0 0 1 0 0 0 0 0 0 1 1 0 1 1 0 0 1 0 1\n",
      " 0 1 0 0 0 0 0 1 0 1 0 1 1 0 1 1 1 1 1 0 0 0 0 1 0 0 0 0 1 0 0 1 0 1 0 1 0\n",
      " 1 0 1 1 0 1 0 0 0 1 0 0 0 0 0 0 1 1 1 1 0 0 0 0 1 0 1 1 1 0 1 0 0 0 0 0 1\n",
      " 0 0 0 1 1 0 0 0 0 0 0 0 0 1 1 0 1 0 0 0 0 0 1 1 1 0 0 0 0 0 0 0 1 0 0 0 0\n",
      " 1 0 0 0 0 0 0 0 1 1 0 1 0 0 0 0 0 0 1 1 0 0 0 0 0 0 0 1 1 0 1 0 0 0 1 0 0\n",
      " 1 0 0 0 0 0 1 0 0 0 1 1 1 0 1 0 1 1 0 0 0 0 1 1 0 0 1 0 1 1 0 1 0 0 1 1 0\n",
      " 0 1 0 0 1 1 0 0 0 0 0 0 1 1 0 1 0 0 0 0 0 1 1 0 0 1 0 1 0 0 1 0 1 0 1 0 0\n",
      " 0 1 1 1 1 1 0 1 0 0 1]\n"
     ]
    }
   ],
   "source": [
    "#predictions:\n",
    "xgb = XGBClassifier(learning_rate = 0.5, n_estimators = 100)\n",
    "\n",
    "xgb.fit(X_train, Y_train)\n",
    "\n",
    "predictions = xgb.predict(X_test)\n",
    "\n",
    "print(predictions)\n",
    "\n",
    "results_csv = pd.DataFrame(predictions)\n",
    "#results_csv.to_csv(\"my-eighth-sub.csv\")"
   ]
  },
  {
   "cell_type": "code",
   "execution_count": 316,
   "metadata": {},
   "outputs": [
    {
     "name": "stdout",
     "output_type": "stream",
     "text": [
      "[[100  10]\n",
      " [ 27  42]]\n",
      "             precision    recall  f1-score   support\n",
      "\n",
      "          0       0.79      0.91      0.84       110\n",
      "          1       0.81      0.61      0.69        69\n",
      "\n",
      "avg / total       0.80      0.79      0.79       179\n",
      "\n",
      "Accuracy score:  0.793296089385\n"
     ]
    }
   ],
   "source": [
    "rf = RandomForestClassifier()\n",
    "#We are training our Random Forest using the fit() function on our training data\n",
    "rf.fit(X_train, Y_train)\n",
    "#Now that the model has been trained, we can use it to make predictions\n",
    "predictions = rf.predict(X_validation)\n",
    "\n",
    "print(confusion_matrix(Y_validation, predictions))\n",
    "print(classification_report(Y_validation, predictions))\n",
    "print('Accuracy score: ', end = \" \")\n",
    "print(accuracy_score(Y_validation, predictions))"
   ]
  }
 ],
 "metadata": {
  "kernelspec": {
   "display_name": "Python 3",
   "language": "python",
   "name": "python3"
  },
  "language_info": {
   "codemirror_mode": {
    "name": "ipython",
    "version": 3
   },
   "file_extension": ".py",
   "mimetype": "text/x-python",
   "name": "python",
   "nbconvert_exporter": "python",
   "pygments_lexer": "ipython3",
   "version": "3.6.3"
  }
 },
 "nbformat": 4,
 "nbformat_minor": 2
}
